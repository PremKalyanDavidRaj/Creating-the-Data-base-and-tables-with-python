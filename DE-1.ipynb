{
 "cells": [
  {
   "cell_type": "markdown",
   "metadata": {},
   "source": [
    "Creating the Table with postgreSQL"
   ]
  },
  {
   "cell_type": "code",
   "execution_count": 6,
   "metadata": {},
   "outputs": [
    {
     "name": "stdout",
     "output_type": "stream",
     "text": [
      "Requirement already satisfied: psycopg2 in /Library/Frameworks/Python.framework/Versions/3.13/lib/python3.13/site-packages (2.9.10)\n"
     ]
    }
   ],
   "source": [
    "!python3 -m pip install psycopg2"
   ]
  },
  {
   "cell_type": "markdown",
   "metadata": {},
   "source": [
    "Importing  psycopg2 "
   ]
  },
  {
   "cell_type": "code",
   "execution_count": 7,
   "metadata": {},
   "outputs": [],
   "source": [
    "import psycopg2"
   ]
  },
  {
   "cell_type": "markdown",
   "metadata": {},
   "source": [
    "Connect to your PostgreSQL database and execute queries:"
   ]
  },
  {
   "cell_type": "code",
   "execution_count": 8,
   "metadata": {},
   "outputs": [
    {
     "name": "stdout",
     "output_type": "stream",
     "text": [
      "Connection to the PostgreSQL database successful\n"
     ]
    }
   ],
   "source": [
    "try:\n",
    "    # Attempt to connect to the PostgreSQL database\n",
    "    conn = psycopg2.connect(\n",
    "        host=\"127.0.0.1\",\n",
    "        dbname=\"postgres\",\n",
    "        user=\"prem\",\n",
    "        password=\"Jesus\"\n",
    "    )\n",
    "    print(\"Connection to the PostgreSQL database successful\")\n",
    "\n",
    "except OperationalError as e:\n",
    "    print(\"Error\")"
   ]
  },
  {
   "cell_type": "markdown",
   "metadata": {},
   "source": [
    "Use the connection to get a cursor that can be used to execute queries."
   ]
  },
  {
   "cell_type": "code",
   "execution_count": 9,
   "metadata": {},
   "outputs": [],
   "source": [
    "try:\n",
    "    cur = conn.cursor()\n",
    "except psycopg2.Error as e:\n",
    "    print(\"Error: Could not get cursor to the Database\")\n",
    "    print(e)"
   ]
  },
  {
   "cell_type": "markdown",
   "metadata": {},
   "source": [
    "Set automatic commit to be true so that each action is commited without having to call conn.commit() after each command  "
   ]
  },
  {
   "cell_type": "code",
   "execution_count": 10,
   "metadata": {},
   "outputs": [],
   "source": [
    "conn.set_session(autocommit=True)"
   ]
  },
  {
   "cell_type": "markdown",
   "metadata": {},
   "source": [
    "Create the Database to do the work "
   ]
  },
  {
   "cell_type": "code",
   "execution_count": 11,
   "metadata": {},
   "outputs": [
    {
     "name": "stdout",
     "output_type": "stream",
     "text": [
      "Error: Could not create the database\n",
      "database \"myfirstdb\" already exists\n",
      "\n"
     ]
    }
   ],
   "source": [
    "try:\n",
    "    cur.execute(\"CREATE DATABASE myfirstdb\")\n",
    "except psycopg2.Error as e:\n",
    "    print(\"Error: Could not create the database\")\n",
    "    print(e)"
   ]
  },
  {
   "cell_type": "markdown",
   "metadata": {},
   "source": [
    "Add the database name in the connect statement. Let's close our connection to the default database, reconnect to the Udacity database, and get a new cursor."
   ]
  },
  {
   "cell_type": "code",
   "execution_count": 12,
   "metadata": {},
   "outputs": [
    {
     "name": "stdout",
     "output_type": "stream",
     "text": [
      "Connection to the PostgreSQL database successful\n"
     ]
    }
   ],
   "source": [
    "try:\n",
    "    conn.close()\n",
    "except psycopg2.Error as e:\n",
    "    print(e)\n",
    "\n",
    "try:\n",
    "    # Attempt to connect to the PostgreSQL database\n",
    "    conn = psycopg2.connect(\n",
    "        host=\"127.0.0.1\",\n",
    "        dbname=\"myfirstdb\",\n",
    "        user=\"prem\",\n",
    "        password=\"Jesus\"\n",
    "    )\n",
    "    print(\"Connection to the PostgreSQL database successful\")\n",
    "\n",
    "except OperationalError as e:\n",
    "    print(\"Error\")\n",
    "\n",
    "try:\n",
    "    cur = conn.cursor()\n",
    "except psycopg2.Error as e:\n",
    "    print(\"Error: Could not get cursor to the Database\")\n",
    "    print(e)\n",
    "\n",
    "conn.set_session(autocommit=True)"
   ]
  },
  {
   "cell_type": "markdown",
   "metadata": {},
   "source": [
    "Create the Table for students which includes below columns, student_id, name, age, gender, subject, and marks."
   ]
  },
  {
   "cell_type": "code",
   "execution_count": 13,
   "metadata": {},
   "outputs": [],
   "source": [
    "try:\n",
    "    cur.execute(\"\"\"\n",
    "        CREATE TABLE IF NOT EXISTS students (\n",
    "            student_id SERIAL PRIMARY KEY,\n",
    "            name VARCHAR(100),\n",
    "            age INTEGER,\n",
    "            gender VARCHAR(10),\n",
    "            subject VARCHAR(100),\n",
    "            marks INTEGER\n",
    "        )\n",
    "    \"\"\")\n",
    "except psycopg2.Error as e:\n",
    "    print(\"Error: Issue create the table\")\n",
    "    print(e)"
   ]
  },
  {
   "cell_type": "markdown",
   "metadata": {},
   "source": [
    "Insert the following the two rows in the data "
   ]
  },
  {
   "cell_type": "code",
   "execution_count": 14,
   "metadata": {},
   "outputs": [],
   "source": [
    "try:\n",
    "    cur.execute(\"\"\"\n",
    "        INSERT INTO students (name, age, gender, subject, marks)\n",
    "        VALUES (%s, %s, %s, %s, %s)\n",
    "    \"\"\", (\"David King\", 20, \"Male\", \"Mathematics\", 95))\n",
    "\n",
    "    cur.execute(\"\"\"\n",
    "        INSERT INTO students (name, age, gender, subject, marks)\n",
    "        VALUES (%s, %s, %s, %s, %s)\n",
    "    \"\"\", (\"Jane Smith\", 22, \"Female\", \"Physics\", 80))\n",
    "\n",
    "    conn.commit()  # Commit the transaction\n",
    "except psycopg2.Error as e:\n",
    "    print(\"Error: Could not insert data into the table\")\n",
    "    print(e)"
   ]
  },
  {
   "cell_type": "markdown",
   "metadata": {},
   "source": [
    "Validate your data was inserted into the table "
   ]
  },
  {
   "cell_type": "code",
   "execution_count": 15,
   "metadata": {},
   "outputs": [
    {
     "name": "stdout",
     "output_type": "stream",
     "text": [
      "[(1, 'David King', 20, 'Male', 'Mathematics', 95), (2, 'Jane Smith', 22, 'Female', 'Physics', 80), (3, 'David King', 20, 'Male', 'Mathematics', 95), (4, 'Jane Smith', 22, 'Female', 'Physics', 80)]\n"
     ]
    }
   ],
   "source": [
    "try:\n",
    "    cur.execute(\"SELECT * FROM students\")\n",
    "except psycopg2.Error as e:\n",
    "    print(\"Error: select *\")\n",
    "    print(e)\n",
    "\n",
    "rows = cur.fetchall()\n",
    "while rows:\n",
    "    print(rows)\n",
    "    rows = cur.fetchall()"
   ]
  },
  {
   "cell_type": "markdown",
   "metadata": {},
   "source": [
    "And Finally close your cursor and connection"
   ]
  },
  {
   "cell_type": "code",
   "execution_count": 16,
   "metadata": {},
   "outputs": [],
   "source": [
    "if cur:\n",
    "    cur.close()\n",
    "if conn:\n",
    "    conn.close()"
   ]
  }
 ],
 "metadata": {
  "kernelspec": {
   "display_name": "Python 3",
   "language": "python",
   "name": "python3"
  },
  "language_info": {
   "codemirror_mode": {
    "name": "ipython",
    "version": 3
   },
   "file_extension": ".py",
   "mimetype": "text/x-python",
   "name": "python",
   "nbconvert_exporter": "python",
   "pygments_lexer": "ipython3",
   "version": "3.13.1"
  }
 },
 "nbformat": 4,
 "nbformat_minor": 2
}
